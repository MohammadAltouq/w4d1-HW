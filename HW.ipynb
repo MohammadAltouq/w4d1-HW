{
 "cells": [
  {
   "cell_type": "code",
   "execution_count": 2,
   "id": "f48c4cdf",
   "metadata": {},
   "outputs": [],
   "source": [
    "import re"
   ]
  },
  {
   "cell_type": "markdown",
   "id": "175a31cf",
   "metadata": {},
   "source": [
    "### In-Class Exercise #3 <br>\n",
    "<p>Print each persons name and twitter handle, using groups, should look like:</p>\n",
    "<p>==============<br>\n",
    "   Full Name / Twitter<br>\n",
    "   ==============</p>\n",
    "Derek Hawkins / @derekhawkins\n",
    "\n",
    " Erik Sven-Osterberg / @sverik\n",
    "\n",
    " Ryan Butz / @ryanbutz\n",
    "\n",
    " Example Exampleson / @example\n",
    "\n",
    " Ripal Pael / @ripalp\n",
    "\n",
    " Darth Vader / @darthvader"
   ]
  },
  {
   "cell_type": "code",
   "execution_count": 3,
   "id": "321921b2",
   "metadata": {},
   "outputs": [
    {
     "name": "stdout",
     "output_type": "stream",
     "text": [
      "\n",
      "==================\n",
      "Full Name / Twitte\n",
      "==================\n",
      "\n",
      "Derek Hawkins || @derekhawkins\n",
      "\n",
      "Erik Sven-Osterberg || @sverik\n",
      "\n",
      "Ryan Butz || @ryanbutz\n",
      "\n",
      "Example Exampleson || @example\n",
      "\n",
      "Ripal Pael || @ripalp\n",
      "\n",
      "Darth Vader || @darthvader\n",
      "\n"
     ]
    }
   ],
   "source": [
    "\n",
    "\n",
    "# pattern = re.compile('([A-z][a-z]+), ([A-z]*[-]*)([A-Z][a-z]+).*(@[A-z0-9]+$)')\n",
    "# print(\"\"\"\n",
    "# ==================\n",
    "# Full Name / Twitte\n",
    "# ==================\n",
    "# \"\"\")\n",
    "# for i in data:\n",
    "#     match = pattern.search(i)\n",
    "#     if match:\n",
    "#         print(f\"{match.group(3)} {match.group(2)}{match.group(1)} || {match.group(4)}\\n\")\n",
    "\n",
    "def nameTwitter(x):\n",
    "    pattern = re.compile('([A-z][a-z]+), ([A-z]*[-]*)([A-Z][a-z]+).*(@[A-z0-9]+$)')\n",
    "    match = pattern.search(x)\n",
    "    if match:\n",
    "        return f\"{match.group(3)} {match.group(2)}{match.group(1)} || {match.group(4)}\\n\"\n",
    "    \n",
    "with open(\"names.txt\")as f:\n",
    "    data = f.readlines()\n",
    "    \n",
    "    \n",
    "print(\"\"\"\n",
    "==================\n",
    "Full Name / Twitte\n",
    "==================\n",
    "\"\"\")\n",
    "for i in data:\n",
    "    if nameTwitter(i):\n",
    "        print(nameTwitter(i))\n"
   ]
  },
  {
   "cell_type": "markdown",
   "id": "9df15a94",
   "metadata": {},
   "source": [
    "### Regex project\n",
    "\n",
    "Use python to read the file regex_test.txt and print the last name on each line using regular expressions and groups (return None for names with no first and last name, or names that aren't properly capitalized)\n",
    "##### Hint: use with open() and readlines()"
   ]
  },
  {
   "cell_type": "code",
   "execution_count": 7,
   "id": "48e7b12f",
   "metadata": {},
   "outputs": [
    {
     "name": "stdout",
     "output_type": "stream",
     "text": [
      "Abraham Lincoln\n",
      "Andrew P Garfield\n",
      "Connor Milliken\n",
      "Jordan Alexander Williams\n",
      "None\n",
      "None\n"
     ]
    }
   ],
   "source": [
    "\"\"\"\n",
    "Expected Output\n",
    "Abraham Lincoln\n",
    "Andrew P Garfield\n",
    "Connor Milliken\n",
    "Jordan Alexander Williams\n",
    "None\n",
    "None\n",
    "\"\"\"\n",
    "\n",
    "\n",
    "def names(x):\n",
    "    pattern = re.compile('([A-Z][a-z]+) ([A-z ]*).*([A-Z][a-z]+)')\n",
    "    match = pattern.search(x)\n",
    "    if match:\n",
    "        return f\"{match.group(1)} {match.group(2)}{match.group(3)}\"\n",
    "  \n",
    "\n",
    "with open(\"regex_test.txt\")as f:\n",
    "    data = f.readlines()\n",
    "for i in data:\n",
    "    print(names(i))\n"
   ]
  },
  {
   "cell_type": "code",
   "execution_count": null,
   "id": "d0fba420",
   "metadata": {},
   "outputs": [],
   "source": []
  }
 ],
 "metadata": {
  "kernelspec": {
   "display_name": "Python 3 (ipykernel)",
   "language": "python",
   "name": "python3"
  },
  "language_info": {
   "codemirror_mode": {
    "name": "ipython",
    "version": 3
   },
   "file_extension": ".py",
   "mimetype": "text/x-python",
   "name": "python",
   "nbconvert_exporter": "python",
   "pygments_lexer": "ipython3",
   "version": "3.9.13"
  }
 },
 "nbformat": 4,
 "nbformat_minor": 5
}
